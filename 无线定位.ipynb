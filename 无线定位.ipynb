{
 "cells": [
  {
   "attachments": {},
   "cell_type": "markdown",
   "metadata": {},
   "source": [
    "### 未进行正则化，可能导致过拟合"
   ]
  },
  {
   "cell_type": "code",
   "execution_count": 5,
   "metadata": {},
   "outputs": [
    {
     "name": "stderr",
     "output_type": "stream",
     "text": [
      "Epoch 1/20, Training: 100%|██████████| 156/156 [00:18<00:00,  8.28it/s, loss=0.12] \n"
     ]
    },
    {
     "name": "stdout",
     "output_type": "stream",
     "text": [
      "Epoch 1/20, Training Loss: 0.9135, Validation Building Accuracy: 1.0000, Validation Floor Accuracy: 0.9334\n"
     ]
    },
    {
     "name": "stderr",
     "output_type": "stream",
     "text": [
      "Epoch 2/20, Training: 100%|██████████| 156/156 [00:18<00:00,  8.37it/s, loss=0.0418]\n"
     ]
    },
    {
     "name": "stdout",
     "output_type": "stream",
     "text": [
      "Epoch 2/20, Training Loss: 0.0873, Validation Building Accuracy: 1.0000, Validation Floor Accuracy: 0.9172\n"
     ]
    },
    {
     "name": "stderr",
     "output_type": "stream",
     "text": [
      "Epoch 3/20, Training: 100%|██████████| 156/156 [00:18<00:00,  8.40it/s, loss=0.0412]\n"
     ]
    },
    {
     "name": "stdout",
     "output_type": "stream",
     "text": [
      "Epoch 3/20, Training Loss: 0.0447, Validation Building Accuracy: 1.0000, Validation Floor Accuracy: 0.9073\n"
     ]
    },
    {
     "name": "stderr",
     "output_type": "stream",
     "text": [
      "Epoch 4/20, Training: 100%|██████████| 156/156 [00:18<00:00,  8.37it/s, loss=0.0712] \n"
     ]
    },
    {
     "name": "stdout",
     "output_type": "stream",
     "text": [
      "Epoch 4/20, Training Loss: 0.0315, Validation Building Accuracy: 1.0000, Validation Floor Accuracy: 0.9109\n"
     ]
    },
    {
     "name": "stderr",
     "output_type": "stream",
     "text": [
      "Epoch 5/20, Training: 100%|██████████| 156/156 [00:18<00:00,  8.45it/s, loss=0.0529] \n"
     ]
    },
    {
     "name": "stdout",
     "output_type": "stream",
     "text": [
      "Epoch 5/20, Training Loss: 0.0248, Validation Building Accuracy: 1.0000, Validation Floor Accuracy: 0.9109\n"
     ]
    },
    {
     "name": "stderr",
     "output_type": "stream",
     "text": [
      "Epoch 6/20, Training: 100%|██████████| 156/156 [00:19<00:00,  8.00it/s, loss=0.0154] \n"
     ]
    },
    {
     "name": "stdout",
     "output_type": "stream",
     "text": [
      "Epoch 6/20, Training Loss: 0.0212, Validation Building Accuracy: 1.0000, Validation Floor Accuracy: 0.9100\n"
     ]
    },
    {
     "name": "stderr",
     "output_type": "stream",
     "text": [
      "Epoch 7/20, Training: 100%|██████████| 156/156 [00:20<00:00,  7.63it/s, loss=0.0209] \n"
     ]
    },
    {
     "name": "stdout",
     "output_type": "stream",
     "text": [
      "Epoch 7/20, Training Loss: 0.0183, Validation Building Accuracy: 1.0000, Validation Floor Accuracy: 0.9109\n"
     ]
    },
    {
     "name": "stderr",
     "output_type": "stream",
     "text": [
      "Epoch 8/20, Training: 100%|██████████| 156/156 [00:22<00:00,  7.06it/s, loss=0.00936]\n"
     ]
    },
    {
     "name": "stdout",
     "output_type": "stream",
     "text": [
      "Epoch 8/20, Training Loss: 0.0163, Validation Building Accuracy: 1.0000, Validation Floor Accuracy: 0.9091\n"
     ]
    },
    {
     "name": "stderr",
     "output_type": "stream",
     "text": [
      "Epoch 9/20, Training: 100%|██████████| 156/156 [00:20<00:00,  7.44it/s, loss=0.0152] \n"
     ]
    },
    {
     "name": "stdout",
     "output_type": "stream",
     "text": [
      "Epoch 9/20, Training Loss: 0.0144, Validation Building Accuracy: 1.0000, Validation Floor Accuracy: 0.9145\n"
     ]
    },
    {
     "name": "stderr",
     "output_type": "stream",
     "text": [
      "Epoch 10/20, Training: 100%|██████████| 156/156 [00:19<00:00,  8.02it/s, loss=0.00391]\n"
     ]
    },
    {
     "name": "stdout",
     "output_type": "stream",
     "text": [
      "Epoch 10/20, Training Loss: 0.0135, Validation Building Accuracy: 1.0000, Validation Floor Accuracy: 0.9136\n"
     ]
    },
    {
     "name": "stderr",
     "output_type": "stream",
     "text": [
      "Epoch 11/20, Training: 100%|██████████| 156/156 [00:19<00:00,  7.85it/s, loss=0.000681]\n"
     ]
    },
    {
     "name": "stdout",
     "output_type": "stream",
     "text": [
      "Epoch 11/20, Training Loss: 0.0132, Validation Building Accuracy: 1.0000, Validation Floor Accuracy: 0.9109\n"
     ]
    },
    {
     "name": "stderr",
     "output_type": "stream",
     "text": [
      "Epoch 12/20, Training: 100%|██████████| 156/156 [00:20<00:00,  7.58it/s, loss=0.000683]\n"
     ]
    },
    {
     "name": "stdout",
     "output_type": "stream",
     "text": [
      "Epoch 12/20, Training Loss: 0.0123, Validation Building Accuracy: 1.0000, Validation Floor Accuracy: 0.9082\n"
     ]
    },
    {
     "name": "stderr",
     "output_type": "stream",
     "text": [
      "Epoch 13/20, Training: 100%|██████████| 156/156 [00:20<00:00,  7.53it/s, loss=0.00665] \n"
     ]
    },
    {
     "name": "stdout",
     "output_type": "stream",
     "text": [
      "Epoch 13/20, Training Loss: 0.0122, Validation Building Accuracy: 1.0000, Validation Floor Accuracy: 0.9127\n"
     ]
    },
    {
     "name": "stderr",
     "output_type": "stream",
     "text": [
      "Epoch 14/20, Training: 100%|██████████| 156/156 [00:20<00:00,  7.54it/s, loss=0.0228]  \n"
     ]
    },
    {
     "name": "stdout",
     "output_type": "stream",
     "text": [
      "Epoch 14/20, Training Loss: 0.0114, Validation Building Accuracy: 1.0000, Validation Floor Accuracy: 0.9055\n"
     ]
    },
    {
     "name": "stderr",
     "output_type": "stream",
     "text": [
      "Epoch 15/20, Training: 100%|██████████| 156/156 [00:21<00:00,  7.32it/s, loss=0.000702]\n"
     ]
    },
    {
     "name": "stdout",
     "output_type": "stream",
     "text": [
      "Epoch 15/20, Training Loss: 0.0116, Validation Building Accuracy: 1.0000, Validation Floor Accuracy: 0.9082\n"
     ]
    },
    {
     "name": "stderr",
     "output_type": "stream",
     "text": [
      "Epoch 16/20, Training: 100%|██████████| 156/156 [00:19<00:00,  7.99it/s, loss=0.00162] \n"
     ]
    },
    {
     "name": "stdout",
     "output_type": "stream",
     "text": [
      "Epoch 16/20, Training Loss: 0.0112, Validation Building Accuracy: 1.0000, Validation Floor Accuracy: 0.9019\n"
     ]
    },
    {
     "name": "stderr",
     "output_type": "stream",
     "text": [
      "Epoch 17/20, Training: 100%|██████████| 156/156 [00:19<00:00,  8.19it/s, loss=0.00262] \n"
     ]
    },
    {
     "name": "stdout",
     "output_type": "stream",
     "text": [
      "Epoch 17/20, Training Loss: 0.0106, Validation Building Accuracy: 1.0000, Validation Floor Accuracy: 0.9037\n"
     ]
    },
    {
     "name": "stderr",
     "output_type": "stream",
     "text": [
      "Epoch 18/20, Training: 100%|██████████| 156/156 [00:19<00:00,  7.85it/s, loss=0.00399] \n"
     ]
    },
    {
     "name": "stdout",
     "output_type": "stream",
     "text": [
      "Epoch 18/20, Training Loss: 0.0107, Validation Building Accuracy: 1.0000, Validation Floor Accuracy: 0.9082\n"
     ]
    },
    {
     "name": "stderr",
     "output_type": "stream",
     "text": [
      "Epoch 19/20, Training: 100%|██████████| 156/156 [00:18<00:00,  8.38it/s, loss=0.000732]\n"
     ]
    },
    {
     "name": "stdout",
     "output_type": "stream",
     "text": [
      "Epoch 19/20, Training Loss: 0.0101, Validation Building Accuracy: 1.0000, Validation Floor Accuracy: 0.9127\n"
     ]
    },
    {
     "name": "stderr",
     "output_type": "stream",
     "text": [
      "Epoch 20/20, Training: 100%|██████████| 156/156 [00:18<00:00,  8.58it/s, loss=0.000645]\n"
     ]
    },
    {
     "name": "stdout",
     "output_type": "stream",
     "text": [
      "Epoch 20/20, Training Loss: 0.0098, Validation Building Accuracy: 1.0000, Validation Floor Accuracy: 0.8938\n"
     ]
    },
    {
     "data": {
      "image/png": "[encoded data removed]",
      "text/plain": [
       "<Figure size 1000x500 with 2 Axes>"
      ]
     },
     "metadata": {},
     "output_type": "display_data"
    }
   ],
   "source": [
    "import torch\n",
    "import torch.nn as nn\n",
    "import torch.optim as optim\n",
    "import pandas as pd\n",
    "from torch.utils.data import DataLoader, Dataset\n",
    "from tqdm import tqdm\n",
    "import matplotlib.pyplot as plt\n",
    "\n",
    "# 设置随机种子以确保结果可复现\n",
    "torch.manual_seed(2077)\n",
    "\n",
    "# 检查是否有可用的GPU，如果有，则使用GPU训练，否则使用CPU\n",
    "device = torch.device(\"cuda\" if torch.cuda.is_available() else \"cpu\")\n",
    "\n",
    "# 定义神经网络模型\n",
    "class Net(nn.Module):\n",
    "    def __init__(self, input_size, hidden_size, building_output_size, floor_output_size):\n",
    "        super(Net, self).__init__()\n",
    "        self.fc1 = nn.Linear(input_size, hidden_size)\n",
    "        self.fc2 = nn.Linear(hidden_size, hidden_size)\n",
    "        self.tanh = nn.Tanh()\n",
    "        self.fc_building = nn.Linear(hidden_size, building_output_size)\n",
    "        self.fc_floor = nn.Linear(hidden_size, floor_output_size)\n",
    "\n",
    "    def forward(self, x):\n",
    "        x = self.fc1(x)\n",
    "        x = self.tanh(x)\n",
    "        x = self.fc2(x)\n",
    "        x = self.tanh(x)\n",
    "        building_output = self.fc_building(x)\n",
    "        floor_output = self.fc_floor(x)\n",
    "        return building_output, floor_output\n",
    "\n",
    "# 定义自定义数据集类\n",
    "class CustomDataset(Dataset):\n",
    "    def __init__(self, data_path):\n",
    "        self.data = pd.read_csv(data_path)\n",
    "\n",
    "    def __len__(self):\n",
    "        return len(self.data)\n",
    "\n",
    "    def __getitem__(self, idx):\n",
    "        features = self.data.iloc[idx, :520].values.astype('float32')\n",
    "        building_label = self.data.loc[idx, \"BUILDINGID\"].astype('int64')\n",
    "        floor_label = self.data.loc[idx, \"FLOOR\"].astype('int64')\n",
    "\n",
    "        return torch.from_numpy(features), building_label, floor_label\n",
    "\n",
    "# 加载训练集和验证集的数据\n",
    "train_dataset = CustomDataset('trainingData.csv')\n",
    "val_dataset = CustomDataset('validationData.csv')\n",
    "\n",
    "# 获取WiFi指纹的强度值\n",
    "train_wifi_strengths = train_dataset.data.iloc[:, :520].values\n",
    "val_wifi_strengths = val_dataset.data.iloc[:, :520].values\n",
    "\n",
    "# 对WiFi指纹的强度值进行最小-最大缩放归一化\n",
    "train_min = -104  # WiFi指纹的最小值\n",
    "train_max = 0  # WiFi指纹的最大值\n",
    "\n",
    "train_wifi_strengths_normalized = (train_wifi_strengths - train_min) / (train_max - train_min)\n",
    "val_wifi_strengths_normalized = (val_wifi_strengths - train_min) / (train_max - train_min)\n",
    "\n",
    "# 将未检测到WAP的强度值100归一化到0\n",
    "train_wifi_strengths_normalized[train_wifi_strengths == 100] = 0\n",
    "val_wifi_strengths_normalized[val_wifi_strengths == 100] = 0\n",
    "\n",
    "# 将归一化后的WiFi指纹更新到数据集中\n",
    "train_dataset.data.iloc[:, :520] = train_wifi_strengths_normalized\n",
    "val_dataset.data.iloc[:, :520] = val_wifi_strengths_normalized\n",
    "\n",
    "\n",
    "# 定义批量大小和迭代器\n",
    "batch_size = 128\n",
    "train_loader = DataLoader(train_dataset, batch_size=batch_size, shuffle=True)\n",
    "val_loader = DataLoader(val_dataset, batch_size=batch_size, shuffle=False)\n",
    "\n",
    "# 初始化模型\n",
    "input_size = 520\n",
    "hidden_size = 128\n",
    "building_output_size = 3  # BUILDINGID的分类数\n",
    "floor_output_size = 5  # FLOOR的分类数\n",
    "model = Net(input_size, hidden_size, building_output_size, floor_output_size).to(device)\n",
    "\n",
    "# 定义损失函数和优化器\n",
    "criterion = nn.CrossEntropyLoss()\n",
    "optimizer = optim.Adam(model.parameters(), lr=0.001)\n",
    "\n",
    "# 训练和测试\n",
    "num_epochs = 20\n",
    "train_loss_history = []\n",
    "val_building_accuracy_history = []\n",
    "val_floor_accuracy_history = []\n",
    "\n",
    "for epoch in range(num_epochs):\n",
    "    # 训练阶段\n",
    "    model.train()\n",
    "    train_loss = 0.0\n",
    "    progress_bar = tqdm(train_loader, desc=f'Epoch {epoch + 1}/{num_epochs}, Training')\n",
    "\n",
    "    for inputs, building_labels, floor_labels in progress_bar:\n",
    "        inputs = inputs.to(device)\n",
    "        building_labels = building_labels.to(device)\n",
    "        floor_labels = floor_labels.to(device)\n",
    "\n",
    "        optimizer.zero_grad()\n",
    "        building_output, floor_output = model(inputs)\n",
    "        building_loss = criterion(building_output, building_labels)\n",
    "        floor_loss = criterion(floor_output, floor_labels)\n",
    "        loss = building_loss + floor_loss\n",
    "        loss.backward()\n",
    "        optimizer.step()\n",
    "\n",
    "        train_loss += loss.item() * inputs.size(0)\n",
    "        progress_bar.set_postfix({'loss': loss.item()})\n",
    "\n",
    "    train_loss = train_loss / len(train_dataset)\n",
    "    train_loss_history.append(train_loss)\n",
    "\n",
    "    # 验证阶段\n",
    "    model.eval()\n",
    "    building_correct = 0\n",
    "    floor_correct = 0\n",
    "    total = 0\n",
    "\n",
    "    with torch.no_grad():\n",
    "        for inputs, building_labels, floor_labels in val_loader:\n",
    "            inputs = inputs.to(device)\n",
    "            building_labels = building_labels.to(device)\n",
    "            floor_labels = floor_labels.to(device)\n",
    "\n",
    "            building_output, floor_output = model(inputs)\n",
    "            _, building_predicted = torch.max(building_output.data, 1)\n",
    "            _, floor_predicted = torch.max(floor_output.data, 1)\n",
    "\n",
    "            total += building_labels.size(0)\n",
    "            building_correct += (building_predicted == building_labels).sum().item()\n",
    "            floor_correct += (floor_predicted == floor_labels).sum().item()\n",
    "\n",
    "    val_building_accuracy = building_correct / total\n",
    "    val_floor_accuracy = floor_correct / total\n",
    "    val_building_accuracy_history.append(val_building_accuracy)\n",
    "    val_floor_accuracy_history.append(val_floor_accuracy)\n",
    "\n",
    "    tqdm.write(f'Epoch {epoch + 1}/{num_epochs}, Training Loss: {train_loss:.4f}, '\n",
    "               f'Validation Building Accuracy: {val_building_accuracy:.4f}, '\n",
    "               f'Validation Floor Accuracy: {val_floor_accuracy:.4f}')\n",
    "\n",
    "# 绘制训练损失和验证准确率的图像\n",
    "plt.figure(figsize=(10, 5))\n",
    "plt.subplot(1, 2, 1)\n",
    "plt.plot(range(1, num_epochs + 1), train_loss_history)\n",
    "plt.xlabel('Epoch')\n",
    "plt.ylabel('Training Loss')\n",
    "plt.title('Training Loss')\n",
    "\n",
    "plt.subplot(1, 2, 2)\n",
    "plt.plot(range(1, num_epochs + 1), val_building_accuracy_history, label='Building Accuracy')\n",
    "plt.plot(range(1, num_epochs + 1), val_floor_accuracy_history, label='Floor Accuracy')\n",
    "plt.xlabel('Epoch')\n",
    "plt.ylabel('Accuracy')\n",
    "plt.title('Validation Accuracy')\n",
    "plt.legend()\n",
    "\n",
    "plt.tight_layout()\n",
    "plt.show()\n"
   ]
  },
  {
   "attachments": {},
   "cell_type": "markdown",
   "metadata": {},
   "source": [
    "### 为了防止过拟合加入早停与Drop操作"
   ]
  },
  {
   "cell_type": "code",
   "execution_count": 1,
   "metadata": {},
   "outputs": [
    {
     "name": "stderr",
     "output_type": "stream",
     "text": [
      "Epoch 1/20, Training: 100%|██████████| 156/156 [00:18<00:00,  8.50it/s, loss=0.192]\n"
     ]
    },
    {
     "name": "stdout",
     "output_type": "stream",
     "text": [
      "Epoch 1/20, Training Loss: 0.9949, Validation Building Accuracy: 1.0000, Validation Floor Accuracy: 0.9388\n"
     ]
    },
    {
     "name": "stderr",
     "output_type": "stream",
     "text": [
      "Epoch 2/20, Training: 100%|██████████| 156/156 [00:17<00:00,  8.89it/s, loss=0.0954]\n"
     ]
    },
    {
     "name": "stdout",
     "output_type": "stream",
     "text": [
      "Epoch 2/20, Training Loss: 0.1307, Validation Building Accuracy: 1.0000, Validation Floor Accuracy: 0.9316\n"
     ]
    },
    {
     "name": "stderr",
     "output_type": "stream",
     "text": [
      "Epoch 3/20, Training: 100%|██████████| 156/156 [00:17<00:00,  8.89it/s, loss=0.0865]\n"
     ]
    },
    {
     "name": "stdout",
     "output_type": "stream",
     "text": [
      "Epoch 3/20, Training Loss: 0.0702, Validation Building Accuracy: 1.0000, Validation Floor Accuracy: 0.9109\n"
     ]
    },
    {
     "name": "stderr",
     "output_type": "stream",
     "text": [
      "Epoch 4/20, Training: 100%|██████████| 156/156 [00:17<00:00,  8.92it/s, loss=0.0771]\n"
     ]
    },
    {
     "name": "stdout",
     "output_type": "stream",
     "text": [
      "Epoch 4/20, Training Loss: 0.0523, Validation Building Accuracy: 1.0000, Validation Floor Accuracy: 0.9127\n"
     ]
    },
    {
     "name": "stderr",
     "output_type": "stream",
     "text": [
      "Epoch 5/20, Training: 100%|██████████| 156/156 [00:17<00:00,  8.93it/s, loss=0.0608]\n"
     ]
    },
    {
     "name": "stdout",
     "output_type": "stream",
     "text": [
      "Epoch 5/20, Training Loss: 0.0406, Validation Building Accuracy: 1.0000, Validation Floor Accuracy: 0.9100\n"
     ]
    },
    {
     "name": "stderr",
     "output_type": "stream",
     "text": [
      "Epoch 6/20, Training: 100%|██████████| 156/156 [00:17<00:00,  8.97it/s, loss=0.0412] \n"
     ]
    },
    {
     "name": "stdout",
     "output_type": "stream",
     "text": [
      "Epoch 6/20, Training Loss: 0.0341, Validation Building Accuracy: 1.0000, Validation Floor Accuracy: 0.9091\n",
      "Early stopping. No improvement in validation accuracy.\n"
     ]
    },
    {
     "data": {
      "image/png": "[encoded data removed]",
      "text/plain": [
       "<Figure size 1000x500 with 2 Axes>"
      ]
     },
     "metadata": {},
     "output_type": "display_data"
    }
   ],
   "source": [
    "import torch\n",
    "import torch.nn as nn\n",
    "import torch.optim as optim\n",
    "import pandas as pd\n",
    "from torch.utils.data import DataLoader, Dataset\n",
    "from tqdm import tqdm\n",
    "import matplotlib.pyplot as plt\n",
    "\n",
    "# 设置随机种子以确保结果可复现\n",
    "torch.manual_seed(2077)\n",
    "\n",
    "# 检查是否有可用的GPU，如果有，则使用GPU训练，否则使用CPU\n",
    "device = torch.device(\"cuda\" if torch.cuda.is_available() else \"cpu\")\n",
    "\n",
    "# 定义神经网络模型\n",
    "class Net(nn.Module):\n",
    "    def __init__(self, input_size, hidden_size, building_output_size, floor_output_size):\n",
    "        super(Net, self).__init__()\n",
    "        self.fc1 = nn.Linear(input_size, hidden_size)\n",
    "        self.fc2 = nn.Linear(hidden_size, hidden_size)\n",
    "        self.tanh = nn.Tanh()\n",
    "        self.dropout = nn.Dropout(0.5)  # 添加Dropout层\n",
    "        self.fc_building = nn.Linear(hidden_size, building_output_size)\n",
    "        self.fc_floor = nn.Linear(hidden_size, floor_output_size)\n",
    "\n",
    "    def forward(self, x):\n",
    "        x = self.fc1(x)\n",
    "        x = self.tanh(x)\n",
    "        x = self.dropout(x)  # 在全连接层后应用Dropout\n",
    "        x = self.fc2(x)\n",
    "        x = self.tanh(x)\n",
    "        building_output = self.fc_building(x)\n",
    "        floor_output = self.fc_floor(x)\n",
    "        return building_output, floor_output\n",
    "\n",
    "# 定义自定义数据集类\n",
    "class CustomDataset(Dataset):\n",
    "    def __init__(self, data_path):\n",
    "        self.data = pd.read_csv(data_path)\n",
    "\n",
    "    def __len__(self):\n",
    "        return len(self.data)\n",
    "\n",
    "    def __getitem__(self, idx):\n",
    "        features = self.data.iloc[idx, :520].values.astype('float32')\n",
    "        building_label = self.data.loc[idx, \"BUILDINGID\"].astype('int64')\n",
    "        floor_label = self.data.loc[idx, \"FLOOR\"].astype('int64')\n",
    "\n",
    "        return torch.from_numpy(features), building_label, floor_label\n",
    "\n",
    "# 加载训练集和验证集的数据\n",
    "train_dataset = CustomDataset('trainingData.csv')\n",
    "val_dataset = CustomDataset('validationData.csv')\n",
    "\n",
    "# 获取WiFi指纹的强度值\n",
    "train_wifi_strengths = train_dataset.data.iloc[:, :520].values\n",
    "val_wifi_strengths = val_dataset.data.iloc[:, :520].values\n",
    "\n",
    "# 对WiFi指纹的强度值进行最小-最大缩放归一化\n",
    "train_min = -104  # WiFi指纹的最小值\n",
    "train_max = 0  # WiFi指纹的最大值\n",
    "\n",
    "train_wifi_strengths_normalized = (train_wifi_strengths - train_min) / (train_max - train_min)\n",
    "val_wifi_strengths_normalized = (val_wifi_strengths - train_min) / (train_max - train_min)\n",
    "\n",
    "# 将未检测到WAP的强度值100归一化到0\n",
    "train_wifi_strengths_normalized[train_wifi_strengths == 100] = 0\n",
    "val_wifi_strengths_normalized[val_wifi_strengths == 100] = 0\n",
    "\n",
    "# 将归一化后的WiFi指纹更新到数据集中\n",
    "train_dataset.data.iloc[:, :520] = train_wifi_strengths_normalized\n",
    "val_dataset.data.iloc[:, :520] = val_wifi_strengths_normalized\n",
    "\n",
    "\n",
    "# 定义批量大小和迭代器\n",
    "batch_size = 128\n",
    "train_loader = DataLoader(train_dataset, batch_size=batch_size, shuffle=True)\n",
    "val_loader = DataLoader(val_dataset, batch_size=batch_size, shuffle=False)\n",
    "\n",
    "# 初始化模型\n",
    "input_size = 520\n",
    "hidden_size = 128\n",
    "building_output_size = 3  # BUILDINGID的分类数\n",
    "floor_output_size = 5  # FLOOR的分类数\n",
    "model = Net(input_size, hidden_size, building_output_size, floor_output_size).to(device)\n",
    "\n",
    "# 定义损失函数和优化器\n",
    "criterion = nn.CrossEntropyLoss()\n",
    "optimizer = optim.Adam(model.parameters(), lr=0.001)\n",
    "\n",
    "# 训练和测试\n",
    "num_epochs = 20\n",
    "train_loss_history = []\n",
    "val_building_accuracy_history = []\n",
    "val_floor_accuracy_history = []\n",
    "\n",
    "\n",
    "best_val_accuracy = [0.0, 0.0]  # 记录最佳验证集准确率[建筑，楼层]\n",
    "patience = 5  # 提前停止的耐心度\n",
    "no_improvement = 0  # 连续验证集准确率未提升的轮数\n",
    "\n",
    "for epoch in range(num_epochs):\n",
    "    # 训练阶段\n",
    "    model.train()\n",
    "    train_loss = 0.0\n",
    "    progress_bar = tqdm(train_loader, desc=f'Epoch {epoch + 1}/{num_epochs}, Training')\n",
    "\n",
    "    for inputs, building_labels, floor_labels in progress_bar:\n",
    "        inputs = inputs.to(device)\n",
    "        building_labels = building_labels.to(device)\n",
    "        floor_labels = floor_labels.to(device)\n",
    "\n",
    "        optimizer.zero_grad()\n",
    "        building_output, floor_output = model(inputs)\n",
    "        building_loss = criterion(building_output, building_labels)\n",
    "        floor_loss = criterion(floor_output, floor_labels)\n",
    "        loss = building_loss + floor_loss\n",
    "        loss.backward()\n",
    "        optimizer.step()\n",
    "\n",
    "        train_loss += loss.item() * inputs.size(0)\n",
    "        progress_bar.set_postfix({'loss': loss.item()})\n",
    "\n",
    "    train_loss = train_loss / len(train_dataset)\n",
    "    train_loss_history.append(train_loss)\n",
    "\n",
    "    # 验证阶段\n",
    "    model.eval()\n",
    "    building_correct = 0\n",
    "    floor_correct = 0\n",
    "    total = 0\n",
    "\n",
    "    with torch.no_grad():\n",
    "        for inputs, building_labels, floor_labels in val_loader:\n",
    "            inputs = inputs.to(device)\n",
    "            building_labels = building_labels.to(device)\n",
    "            floor_labels = floor_labels.to(device)\n",
    "\n",
    "            building_output, floor_output = model(inputs)\n",
    "            _, building_predicted = torch.max(building_output.data, 1)\n",
    "            _, floor_predicted = torch.max(floor_output.data, 1)\n",
    "\n",
    "            total += building_labels.size(0)\n",
    "            building_correct += (building_predicted == building_labels).sum().item()\n",
    "            floor_correct += (floor_predicted == floor_labels).sum().item()\n",
    "\n",
    "    val_building_accuracy = building_correct / total\n",
    "    val_floor_accuracy = floor_correct / total\n",
    "    val_building_accuracy_history.append(val_building_accuracy)\n",
    "    val_floor_accuracy_history.append(val_floor_accuracy)\n",
    "\n",
    "    tqdm.write(f'Epoch {epoch + 1}/{num_epochs}, Training Loss: {train_loss:.4f}, '\n",
    "               f'Validation Building Accuracy: {val_building_accuracy:.4f}, '\n",
    "               f'Validation Floor Accuracy: {val_floor_accuracy:.4f}')\n",
    "\n",
    "    # 提前停止\n",
    "    if sum([val_building_accuracy,  val_floor_accuracy]) > sum(best_val_accuracy):\n",
    "        best_val_accuracy = [val_building_accuracy,  val_floor_accuracy]\n",
    "        no_improvement = 0\n",
    "    else:\n",
    "        no_improvement += 1\n",
    "        if no_improvement >= patience:\n",
    "            print(\"Early stopping. No improvement in validation accuracy.\")\n",
    "            break\n",
    "\n",
    "# 绘制训练损失和验证准确率的图像\n",
    "plt.figure(figsize=(10, 5))\n",
    "plt.subplot(1, 2, 1)\n",
    "plt.plot(range(1, len(train_loss_history) + 1), train_loss_history)\n",
    "plt.xlabel('Epoch')\n",
    "plt.ylabel('Training Loss')\n",
    "plt.title('Training Loss')\n",
    "\n",
    "plt.subplot(1, 2, 2)\n",
    "plt.plot(range(1, len(val_building_accuracy_history) + 1), val_building_accuracy_history, label='Building Accuracy')\n",
    "plt.plot(range(1, len(val_floor_accuracy_history) + 1), val_floor_accuracy_history, label='Floor Accuracy')\n",
    "plt.xlabel('Epoch')\n",
    "plt.ylabel('Accuracy')\n",
    "plt.title('Validation Accuracy')\n",
    "plt.legend()\n",
    "\n",
    "plt.tight_layout()\n",
    "plt.show()\n"
   ]
  },
  {
   "attachments": {},
   "cell_type": "markdown",
   "metadata": {},
   "source": [
    "### 与传统机器学习模型对比"
   ]
  },
  {
   "cell_type": "code",
   "execution_count": 11,
   "metadata": {},
   "outputs": [
    {
     "name": "stdout",
     "output_type": "stream",
     "text": [
      "SVM Building Accuracy: 0.9972997299729973\n",
      "SVM Floor Accuracy: 0.8091809180918091\n",
      "KNN Building Accuracy: 0.990999099909991\n",
      "KNN Floor Accuracy: 0.7326732673267327\n"
     ]
    },
    {
     "data": {
      "image/png": "[encoded data removed]",
      "text/plain": [
       "<Figure size 1000x500 with 2 Axes>"
      ]
     },
     "metadata": {},
     "output_type": "display_data"
    }
   ],
   "source": [
    "import pandas as pd\n",
    "import matplotlib.pyplot as plt\n",
    "from sklearn import svm\n",
    "from sklearn.neighbors import KNeighborsClassifier\n",
    "from sklearn.metrics import accuracy_score\n",
    "\n",
    "# 加载训练集和验证集的数据\n",
    "train_data = pd.read_csv('trainingData.csv')\n",
    "val_data = pd.read_csv('validationData.csv')\n",
    "\n",
    "# 提取特征和标签\n",
    "X_train = train_data.iloc[:, :520]\n",
    "y_train_building = train_data[\"BUILDINGID\"]\n",
    "y_train_floor = train_data[\"FLOOR\"]\n",
    "\n",
    "X_val = val_data.iloc[:, :520]\n",
    "y_val_building = val_data[\"BUILDINGID\"]\n",
    "y_val_floor = val_data[\"FLOOR\"]\n",
    "\n",
    "# 创建SVM模型并进行建筑物预测训练\n",
    "svm_model_building = svm.SVC()\n",
    "svm_model_building.fit(X_train, y_train_building)\n",
    "svm_predictions_building = svm_model_building.predict(X_val)\n",
    "\n",
    "svm_accuracy_building = accuracy_score(y_val_building, svm_predictions_building)\n",
    "print(\"SVM Building Accuracy:\", svm_accuracy_building)\n",
    "\n",
    "# 创建SVM模型并进行楼层预测训练\n",
    "svm_model_floor = svm.SVC()\n",
    "svm_model_floor.fit(X_train, y_train_floor)\n",
    "svm_predictions_floor = svm_model_floor.predict(X_val)\n",
    "\n",
    "svm_accuracy_floor = accuracy_score(y_val_floor, svm_predictions_floor)\n",
    "print(\"SVM Floor Accuracy:\", svm_accuracy_floor)\n",
    "\n",
    "# 创建KNN模型并进行建筑物预测训练\n",
    "knn_model_building = KNeighborsClassifier()\n",
    "knn_model_building.fit(X_train, y_train_building)\n",
    "knn_predictions_building = knn_model_building.predict(X_val)\n",
    "\n",
    "knn_accuracy_building = accuracy_score(y_val_building, knn_predictions_building)\n",
    "print(\"KNN Building Accuracy:\", knn_accuracy_building)\n",
    "\n",
    "# 创建KNN模型并进行楼层预测训练\n",
    "knn_model_floor = KNeighborsClassifier()\n",
    "knn_model_floor.fit(X_train, y_train_floor)\n",
    "knn_predictions_floor = knn_model_floor.predict(X_val)\n",
    "\n",
    "knn_accuracy_floor = accuracy_score(y_val_floor, knn_predictions_floor)\n",
    "print(\"KNN Floor Accuracy:\", knn_accuracy_floor)\n",
    "\n",
    "\n",
    "# 创建柱状图\n",
    "plt.figure(figsize=(10, 5))\n",
    "plt.subplot(1, 2, 1)\n",
    "models = ['WIFNN', 'SVM', 'KNN']\n",
    "building_accuracies = [best_val_accuracy[0], svm_accuracy_building, knn_accuracy_building]\n",
    "plt.bar(models, building_accuracies, width=0.3)\n",
    "for i, accuracy in enumerate(building_accuracies):\n",
    "    label = f\"{accuracy:.3f}\"\n",
    "    if accuracy == max(building_accuracies):\n",
    "        label += \" (best)\"\n",
    "    plt.text(i, accuracy, label, ha='center', va='bottom')\n",
    "plt.xlabel('Model')\n",
    "plt.ylabel('Accuracy')\n",
    "plt.title('Building Accuracy')\n",
    "\n",
    "plt.subplot(1, 2, 2)\n",
    "floor_accuracies = [best_val_accuracy[1], svm_accuracy_floor, knn_accuracy_floor]\n",
    "plt.bar(models, floor_accuracies, width=0.3)\n",
    "for i, accuracy in enumerate(floor_accuracies):\n",
    "    label = f\"{accuracy:.3f}\"\n",
    "    if accuracy == max(floor_accuracies):\n",
    "        label += \" (best)\"\n",
    "    plt.text(i, accuracy, label, ha='center', va='bottom')\n",
    "plt.xlabel('Model')\n",
    "plt.ylabel('Accuracy')\n",
    "plt.title('Floor Accuracy')\n",
    "\n",
    "plt.tight_layout()\n",
    "plt.show()\n"
   ]
  },
  {
   "cell_type": "code",
   "execution_count": null,
   "metadata": {},
   "outputs": [],
   "source": []
  }
 ],
 "metadata": {
  "kernelspec": {
   "display_name": "yolov7",
   "language": "python",
   "name": "python3"
  },
  "language_info": {
   "codemirror_mode": {
    "name": "ipython",
    "version": 3
   },
   "file_extension": ".py",
   "mimetype": "text/x-python",
   "name": "python",
   "nbconvert_exporter": "python",
   "pygments_lexer": "ipython3",
   "version": "3.8.15"
  },
  "orig_nbformat": 4
 },
 "nbformat": 4,
 "nbformat_minor": 2
}
